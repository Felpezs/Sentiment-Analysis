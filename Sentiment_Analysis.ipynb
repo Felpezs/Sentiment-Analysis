{
  "cells": [
    {
      "cell_type": "markdown",
      "metadata": {
        "id": "view-in-github",
        "colab_type": "text"
      },
      "source": [
        "<a href=\"https://colab.research.google.com/github/Felpezs/Sentiment-Analysis/blob/master/Sentiment_Analysis.ipynb\" target=\"_parent\"><img src=\"https://colab.research.google.com/assets/colab-badge.svg\" alt=\"Open In Colab\"/></a>"
      ]
    },
    {
      "cell_type": "markdown",
      "metadata": {
        "id": "5a9NC1rbsqdv"
      },
      "source": [
        "# ACML IMDB\n",
        "\n"
      ]
    },
    {
      "cell_type": "markdown",
      "metadata": {
        "id": "tMPaqKaiuXNv"
      },
      "source": [
        "##Organização\n"
      ]
    },
    {
      "cell_type": "markdown",
      "metadata": {
        "id": "G9xEZ00LyzxZ"
      },
      "source": [
        "\n",
        "O dataset está dividido da seguinte forma:\n",
        "\n",
        "- Train/Test\n",
        "  - Positive/Negative Reviews, BOW e Urls das reviews (somente o id da obra funciona)\n",
        "    - Reviews"
      ]
    },
    {
      "cell_type": "markdown",
      "metadata": {
        "id": "LbT0hH5YycZF"
      },
      "source": [
        "### Sobre dados de teste e treino\n",
        "\n",
        "O dataset possui 25 mil dados para treino e 25 mil dados para teste. A proporção de sentimentos positivos e negativos também está igualmente distribuida."
      ]
    },
    {
      "cell_type": "markdown",
      "metadata": {
        "id": "pejVXu_xwEL5"
      },
      "source": [
        "### Reviews\n",
        "\n",
        "As reviews estão divididas nas pastas pos (sentimento positivo) e neg (sentimento negativo). Os reviews negativos possuem notas <=4, enquanto os positivos possuem notas >=5, reviews mais neutras, portanto, foram desconsideradas."
      ]
    },
    {
      "cell_type": "markdown",
      "metadata": {
        "id": "ddpJJ6QfykUL"
      },
      "source": [
        "### Nomes dos arquivos\n",
        "\n",
        "As reviews são organizadas da seguinte forma: [ [ **id** ]_[ **rating** ] ].txt. Sendo assim, o arquivo 0_9.txt, na pasta [train/pos], indica uma review de treino positivo, com id 0 e com rating 9\n",
        "\n",
        "<br>\n",
        "\n",
        "![imagem_2023-04-18_113815936.png](data:image/png;base64,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)"
      ]
    },
    {
      "cell_type": "markdown",
      "metadata": {
        "id": "l7cENqAv2sM3"
      },
      "source": [
        "### Bag of Words\n",
        "\n",
        "Estão armazenados em arquivos [.feat], no formato LIBSVM (formato de vetor esparso ascii para dados routulados).\n",
        "Os indíces das features nesses arquivos iniciam em 0, e o token dos textos correspondem a um index de feature encontrado em [imdb.vocab]. Então uma linha com 0:7 em um arquivo .feat significa que a primeira palavra em [imdb.vocab] (the) aparece 7 vezes naquela review."
      ]
    },
    {
      "cell_type": "markdown",
      "metadata": {
        "id": "NR1Jk54NzD05"
      },
      "source": [
        "# Trabalhando com o dataset\n"
      ]
    },
    {
      "cell_type": "code",
      "execution_count": null,
      "metadata": {
        "colab": {
          "base_uri": "https://localhost:8080/"
        },
        "id": "Ld1BAPb3v9uF",
        "outputId": "76255617-0ffa-409f-db89-9968f6872b4e"
      },
      "outputs": [
        {
          "name": "stdout",
          "output_type": "stream",
          "text": [
            "Requirement already satisfied: nltk in /usr/local/lib/python3.10/dist-packages (3.8.1)\n",
            "Requirement already satisfied: click in /usr/local/lib/python3.10/dist-packages (from nltk) (8.1.3)\n",
            "Requirement already satisfied: joblib in /usr/local/lib/python3.10/dist-packages (from nltk) (1.2.0)\n",
            "Requirement already satisfied: regex>=2021.8.3 in /usr/local/lib/python3.10/dist-packages (from nltk) (2022.10.31)\n",
            "Requirement already satisfied: tqdm in /usr/local/lib/python3.10/dist-packages (from nltk) (4.65.0)\n"
          ]
        }
      ],
      "source": [
        "!pip install nltk"
      ]
    },
    {
      "cell_type": "code",
      "execution_count": null,
      "metadata": {
        "colab": {
          "base_uri": "https://localhost:8080/"
        },
        "id": "8iiYOc-5JRGb",
        "outputId": "d97b0e01-9c9a-4c79-ed18-f7c20eb61154"
      },
      "outputs": [
        {
          "output_type": "stream",
          "name": "stderr",
          "text": [
            "[nltk_data] Downloading package wordnet to /root/nltk_data...\n",
            "[nltk_data]   Package wordnet is already up-to-date!\n",
            "[nltk_data] Downloading package punkt to /root/nltk_data...\n",
            "[nltk_data]   Package punkt is already up-to-date!\n",
            "[nltk_data] Downloading package averaged_perceptron_tagger to\n",
            "[nltk_data]     /root/nltk_data...\n",
            "[nltk_data]   Package averaged_perceptron_tagger is already up-to-\n",
            "[nltk_data]       date!\n"
          ]
        },
        {
          "output_type": "execute_result",
          "data": {
            "text/plain": [
              "True"
            ]
          },
          "metadata": {},
          "execution_count": 3
        }
      ],
      "source": [
        "import pandas as pd\n",
        "import matplotlib.pyplot as plt\n",
        "import re\n",
        "import nltk\n",
        "from nltk.stem import WordNetLemmatizer as wnl\n",
        "from nltk.tokenize import word_tokenize, WordPunctTokenizer, WhitespaceTokenizer\n",
        "from nltk.corpus import wordnet as wn\n",
        "from sklearn.feature_extraction.text import TfidfVectorizer\n",
        "from sklearn.ensemble import RandomForestClassifier\n",
        "from sklearn import svm\n",
        "from sklearn.naive_bayes import MultinomialNB\n",
        "from sklearn.model_selection import train_test_split, GridSearchCV\n",
        "from sklearn.metrics import classification_report\n",
        "from sklearn.metrics import confusion_matrix, ConfusionMatrixDisplay\n",
        "\n",
        "import pickle\n",
        "\n",
        "nltk.download('wordnet')\n",
        "nltk.download('punkt')\n",
        "nltk.download('averaged_perceptron_tagger')"
      ]
    },
    {
      "cell_type": "code",
      "execution_count": null,
      "metadata": {
        "id": "AQ6PTE_hKDqD"
      },
      "outputs": [],
      "source": [
        "df_train = pd.read_csv('aclImdb_train.csv')\n",
        "df_train = df_train.sample(frac=1, random_state=2023)\n",
        "df_train.head(10)"
      ]
    },
    {
      "cell_type": "markdown",
      "metadata": {
        "id": "FdR-2HL04283"
      },
      "source": [
        "##Tratando os dados\n"
      ]
    },
    {
      "cell_type": "markdown",
      "metadata": {
        "id": "LoM7wpzrvMyK"
      },
      "source": [
        "### Pré processamento"
      ]
    },
    {
      "cell_type": "code",
      "execution_count": null,
      "metadata": {
        "colab": {
          "base_uri": "https://localhost:8080/",
          "height": 380
        },
        "id": "IJAcyH_DAr85",
        "outputId": "4a399f67-81f6-416c-bfb1-abc22db56b05"
      },
      "outputs": [
        {
          "name": "stdout",
          "output_type": "stream",
          "text": [
            "Soma de reviews duplicados: 96\n"
          ]
        },
        {
          "data": {
            "text/html": [
              "\n",
              "  <div id=\"df-2b29a902-15d0-4375-b495-582cd07ec958\">\n",
              "    <div class=\"colab-df-container\">\n",
              "      <div>\n",
              "<style scoped>\n",
              "    .dataframe tbody tr th:only-of-type {\n",
              "        vertical-align: middle;\n",
              "    }\n",
              "\n",
              "    .dataframe tbody tr th {\n",
              "        vertical-align: top;\n",
              "    }\n",
              "\n",
              "    .dataframe thead th {\n",
              "        text-align: right;\n",
              "    }\n",
              "</style>\n",
              "<table border=\"1\" class=\"dataframe\">\n",
              "  <thead>\n",
              "    <tr style=\"text-align: right;\">\n",
              "      <th></th>\n",
              "      <th>reviewIndex</th>\n",
              "      <th>text</th>\n",
              "      <th>sentiment</th>\n",
              "    </tr>\n",
              "  </thead>\n",
              "  <tbody>\n",
              "    <tr>\n",
              "      <th>18447</th>\n",
              "      <td>4102</td>\n",
              "      <td>'Dead Letter Office' is a low-budget film abou...</td>\n",
              "      <td>negative</td>\n",
              "    </tr>\n",
              "    <tr>\n",
              "      <th>24842</th>\n",
              "      <td>985</td>\n",
              "      <td>'Dead Letter Office' is a low-budget film abou...</td>\n",
              "      <td>negative</td>\n",
              "    </tr>\n",
              "    <tr>\n",
              "      <th>8131</th>\n",
              "      <td>6069</td>\n",
              "      <td>.......Playing Kaddiddlehopper, Col San Fernan...</td>\n",
              "      <td>positive</td>\n",
              "    </tr>\n",
              "    <tr>\n",
              "      <th>11742</th>\n",
              "      <td>9319</td>\n",
              "      <td>.......Playing Kaddiddlehopper, Col San Fernan...</td>\n",
              "      <td>positive</td>\n",
              "    </tr>\n",
              "    <tr>\n",
              "      <th>21983</th>\n",
              "      <td>7286</td>\n",
              "      <td>&lt;br /&gt;&lt;br /&gt;Back in his youth, the old man had...</td>\n",
              "      <td>negative</td>\n",
              "    </tr>\n",
              "    <tr>\n",
              "      <th>21984</th>\n",
              "      <td>7287</td>\n",
              "      <td>&lt;br /&gt;&lt;br /&gt;Back in his youth, the old man had...</td>\n",
              "      <td>negative</td>\n",
              "    </tr>\n",
              "    <tr>\n",
              "      <th>8576</th>\n",
              "      <td>646</td>\n",
              "      <td>A have a female friend who is currently being ...</td>\n",
              "      <td>positive</td>\n",
              "    </tr>\n",
              "    <tr>\n",
              "      <th>8554</th>\n",
              "      <td>644</td>\n",
              "      <td>A have a female friend who is currently being ...</td>\n",
              "      <td>positive</td>\n",
              "    </tr>\n",
              "    <tr>\n",
              "      <th>5070</th>\n",
              "      <td>3313</td>\n",
              "      <td>A longtime fan of Bette Midler, I must say her...</td>\n",
              "      <td>positive</td>\n",
              "    </tr>\n",
              "    <tr>\n",
              "      <th>12123</th>\n",
              "      <td>9662</td>\n",
              "      <td>A longtime fan of Bette Midler, I must say her...</td>\n",
              "      <td>positive</td>\n",
              "    </tr>\n",
              "  </tbody>\n",
              "</table>\n",
              "</div>\n",
              "      <button class=\"colab-df-convert\" onclick=\"convertToInteractive('df-2b29a902-15d0-4375-b495-582cd07ec958')\"\n",
              "              title=\"Convert this dataframe to an interactive table.\"\n",
              "              style=\"display:none;\">\n",
              "        \n",
              "  <svg xmlns=\"http://www.w3.org/2000/svg\" height=\"24px\"viewBox=\"0 0 24 24\"\n",
              "       width=\"24px\">\n",
              "    <path d=\"M0 0h24v24H0V0z\" fill=\"none\"/>\n",
              "    <path d=\"M18.56 5.44l.94 2.06.94-2.06 2.06-.94-2.06-.94-.94-2.06-.94 2.06-2.06.94zm-11 1L8.5 8.5l.94-2.06 2.06-.94-2.06-.94L8.5 2.5l-.94 2.06-2.06.94zm10 10l.94 2.06.94-2.06 2.06-.94-2.06-.94-.94-2.06-.94 2.06-2.06.94z\"/><path d=\"M17.41 7.96l-1.37-1.37c-.4-.4-.92-.59-1.43-.59-.52 0-1.04.2-1.43.59L10.3 9.45l-7.72 7.72c-.78.78-.78 2.05 0 2.83L4 21.41c.39.39.9.59 1.41.59.51 0 1.02-.2 1.41-.59l7.78-7.78 2.81-2.81c.8-.78.8-2.07 0-2.86zM5.41 20L4 18.59l7.72-7.72 1.47 1.35L5.41 20z\"/>\n",
              "  </svg>\n",
              "      </button>\n",
              "      \n",
              "  <style>\n",
              "    .colab-df-container {\n",
              "      display:flex;\n",
              "      flex-wrap:wrap;\n",
              "      gap: 12px;\n",
              "    }\n",
              "\n",
              "    .colab-df-convert {\n",
              "      background-color: #E8F0FE;\n",
              "      border: none;\n",
              "      border-radius: 50%;\n",
              "      cursor: pointer;\n",
              "      display: none;\n",
              "      fill: #1967D2;\n",
              "      height: 32px;\n",
              "      padding: 0 0 0 0;\n",
              "      width: 32px;\n",
              "    }\n",
              "\n",
              "    .colab-df-convert:hover {\n",
              "      background-color: #E2EBFA;\n",
              "      box-shadow: 0px 1px 2px rgba(60, 64, 67, 0.3), 0px 1px 3px 1px rgba(60, 64, 67, 0.15);\n",
              "      fill: #174EA6;\n",
              "    }\n",
              "\n",
              "    [theme=dark] .colab-df-convert {\n",
              "      background-color: #3B4455;\n",
              "      fill: #D2E3FC;\n",
              "    }\n",
              "\n",
              "    [theme=dark] .colab-df-convert:hover {\n",
              "      background-color: #434B5C;\n",
              "      box-shadow: 0px 1px 3px 1px rgba(0, 0, 0, 0.15);\n",
              "      filter: drop-shadow(0px 1px 2px rgba(0, 0, 0, 0.3));\n",
              "      fill: #FFFFFF;\n",
              "    }\n",
              "  </style>\n",
              "\n",
              "      <script>\n",
              "        const buttonEl =\n",
              "          document.querySelector('#df-2b29a902-15d0-4375-b495-582cd07ec958 button.colab-df-convert');\n",
              "        buttonEl.style.display =\n",
              "          google.colab.kernel.accessAllowed ? 'block' : 'none';\n",
              "\n",
              "        async function convertToInteractive(key) {\n",
              "          const element = document.querySelector('#df-2b29a902-15d0-4375-b495-582cd07ec958');\n",
              "          const dataTable =\n",
              "            await google.colab.kernel.invokeFunction('convertToInteractive',\n",
              "                                                     [key], {});\n",
              "          if (!dataTable) return;\n",
              "\n",
              "          const docLinkHtml = 'Like what you see? Visit the ' +\n",
              "            '<a target=\"_blank\" href=https://colab.research.google.com/notebooks/data_table.ipynb>data table notebook</a>'\n",
              "            + ' to learn more about interactive tables.';\n",
              "          element.innerHTML = '';\n",
              "          dataTable['output_type'] = 'display_data';\n",
              "          await google.colab.output.renderOutput(dataTable, element);\n",
              "          const docLink = document.createElement('div');\n",
              "          docLink.innerHTML = docLinkHtml;\n",
              "          element.appendChild(docLink);\n",
              "        }\n",
              "      </script>\n",
              "    </div>\n",
              "  </div>\n",
              "  "
            ],
            "text/plain": [
              "       reviewIndex                                               text  \\\n",
              "18447         4102  'Dead Letter Office' is a low-budget film abou...   \n",
              "24842          985  'Dead Letter Office' is a low-budget film abou...   \n",
              "8131          6069  .......Playing Kaddiddlehopper, Col San Fernan...   \n",
              "11742         9319  .......Playing Kaddiddlehopper, Col San Fernan...   \n",
              "21983         7286  <br /><br />Back in his youth, the old man had...   \n",
              "21984         7287  <br /><br />Back in his youth, the old man had...   \n",
              "8576           646  A have a female friend who is currently being ...   \n",
              "8554           644  A have a female friend who is currently being ...   \n",
              "5070          3313  A longtime fan of Bette Midler, I must say her...   \n",
              "12123         9662  A longtime fan of Bette Midler, I must say her...   \n",
              "\n",
              "      sentiment  \n",
              "18447  negative  \n",
              "24842  negative  \n",
              "8131   positive  \n",
              "11742  positive  \n",
              "21983  negative  \n",
              "21984  negative  \n",
              "8576   positive  \n",
              "8554   positive  \n",
              "5070   positive  \n",
              "12123  positive  "
            ]
          },
          "execution_count": 5,
          "metadata": {},
          "output_type": "execute_result"
        }
      ],
      "source": [
        "# Remocao de valores duplicados\n",
        "\n",
        "print(f\"Soma de reviews duplicados: {df_train.duplicated(subset=['text']).sum()}\")\n",
        "text = df_train['text']\n",
        "duplicated = df_train[text.isin(text[text.duplicated()])].sort_values('text')\n",
        "duplicated.head(10)"
      ]
    },
    {
      "cell_type": "code",
      "execution_count": null,
      "metadata": {
        "colab": {
          "base_uri": "https://localhost:8080/"
        },
        "id": "gz7jkVRS5DAh",
        "outputId": "c56f9b3f-b4f2-4c9c-c174-21996ccabaf1"
      },
      "outputs": [
        {
          "name": "stdout",
          "output_type": "stream",
          "text": [
            "Quantidade de tags nos textos: 101630\n"
          ]
        }
      ],
      "source": [
        "# Verificando tags\n",
        "\n",
        "texts_tags = df_train['text'].apply(lambda text : len(re.findall('<.*?>', text)))\n",
        "print(f'Quantidade de tags nos textos: {texts_tags.sum()}')"
      ]
    },
    {
      "cell_type": "code",
      "execution_count": null,
      "metadata": {
        "colab": {
          "base_uri": "https://localhost:8080/"
        },
        "id": "C5K8-3jwKBrW",
        "outputId": "453aa16f-beb7-4779-a8a9-ea3a44386cc2"
      },
      "outputs": [
        {
          "name": "stdout",
          "output_type": "stream",
          "text": [
            "Quantidade de URLS nos textos: 67\n"
          ]
        }
      ],
      "source": [
        "# Verificando URLS\n",
        "\n",
        "texts_urls = df_train['text'].apply(lambda text : len(re.findall('https?://\\S+|www\\.\\S+', text)))\n",
        "print(f'Quantidade de URLS nos textos: {texts_urls.sum()}')"
      ]
    },
    {
      "cell_type": "code",
      "execution_count": null,
      "metadata": {
        "colab": {
          "base_uri": "https://localhost:8080/"
        },
        "id": "eNRZfqYewypg",
        "outputId": "84eb4ced-1157-43b6-9bf1-f88263de0d8e"
      },
      "outputs": [
        {
          "name": "stdout",
          "output_type": "stream",
          "text": [
            "TOKENIZAÇÃO: \n",
            "Com split: ['This', 'film', 'is', 'great', '(it', \"isn't).\", 'But', 'the', 'plot', 'twist', 'is', 'mind-blowing', ':-)']\n",
            "Com wordTokenize: ['This', 'film', 'is', 'great', '(', 'it', 'is', \"n't\", ')', '.', 'But', 'the', 'plot', 'twist', 'is', 'mind-blowing', ':', '-', ')']\n",
            "Com wordPunctTokenizer: ['This', 'film', 'is', 'great', '(', 'it', 'isn', \"'\", 't', ').', 'But', 'the', 'plot', 'twist', 'is', 'mind', '-', 'blowing', ':-)']\n",
            "Com whiteSpaceTokenizer: ['This', 'film', 'is', 'great', '(it', \"isn't).\", 'But', 'the', 'plot', 'twist', 'is', 'mind-blowing', ':-)']\n"
          ]
        }
      ],
      "source": [
        "#Gerando tokens\n",
        "\n",
        "text = 'This film is great (it isn\\'t). But the plot twist is mind-blowing :-)'\n",
        "\n",
        "tokens = text.split()\n",
        "tokens2 = word_tokenize(text)\n",
        "tokens3 = WordPunctTokenizer().tokenize(text)\n",
        "tokens4 = WhitespaceTokenizer().tokenize(text)\n",
        "\n",
        "print(\"TOKENIZAÇÃO: \")\n",
        "print(f'Com split: {tokens}')\n",
        "print(f'Com wordTokenize: {tokens2}')\n",
        "print(f'Com wordPunctTokenizer: {tokens3}')\n",
        "print(f'Com whiteSpaceTokenizer: {tokens4}')"
      ]
    },
    {
      "cell_type": "code",
      "execution_count": null,
      "metadata": {
        "colab": {
          "base_uri": "https://localhost:8080/",
          "height": 140
        },
        "id": "sNkIaKD1vTu_",
        "outputId": "ce91f57f-3845-486e-9845-3b8a712d129e"
      },
      "outputs": [
        {
          "name": "stdout",
          "output_type": "stream",
          "text": [
            "Pré limpeza dos dados:\n"
          ]
        },
        {
          "data": {
            "application/vnd.google.colaboratory.intrinsic+json": {
              "type": "string"
            },
            "text/plain": [
              "'homelessness (or houselessness as george carlin stated) has been an issue for years but never a plan to help those on the street that were once considered human who did everything from going to school work or vote for the matter most people think of the homeless as just a lost cause while worrying about things such as racism the war on iraq pressuring kids to succeed technology the elections inflation or worrying if they\\'ll be next to end up on the streets  but what if you were given a bet to live on the streets for a month without the luxuries you once had from a home the entertainment sets a bathroom pictures on the wall a computer and everything you once treasure to see what it\\'s like to be homeless? that is goddard bolt\\'s lesson  mel brooks (who directs) who stars as bolt plays a rich man who has everything in the world until deciding to make a bet with a sissy rival (jeffery tambor) to see if he can live in the streets for thirty days without the luxuries; if bolt succeeds he can do what he wants with a future project of making more buildings the bet\\'s on where bolt is thrown on the street with a bracelet on his leg to monitor his every move where he can\\'t step off the sidewalk he\\'s given the nickname pepto by a vagrant after it\\'s written on his forehead where bolt meets other characters including a woman by the name of molly (lesley ann warren) an ex-dancer who got divorce before losing her home and her pals sailor (howard morris) and fumes (teddy wilson) who are already used to the streets they\\'re survivors bolt isn\\'t he\\'s not used to reaching mutual agreements like he once did when being rich where it\\'s fight or flight kill or be killed  while the love connection between molly and bolt wasn\\'t necessary to plot i found \"life stinks\" to be one of mel brooks\\' observant films where prior to being a comedy it shows a tender side compared to his slapstick work such as blazing saddles young frankenstein or spaceballs for the matter to show what it\\'s like having something valuable before losing it the next day or on the other hand making a stupid bet like all rich people do when they don\\'t know what to do with their money maybe they should give it to the homeless instead of using it like monopoly money  or maybe this film will inspire you to help others'"
            ]
          },
          "execution_count": 148,
          "metadata": {},
          "output_type": "execute_result"
        }
      ],
      "source": [
        "#Funcoes usadas em um pipeline para o pre processamento\n",
        "\n",
        "def remove_tags(text):\n",
        "    pattern = '<.*?>'\n",
        "    return re.sub(pattern, ' ', text)\n",
        "\n",
        "def remove_urls(text):\n",
        "  pattern = \"https?://\\S+|www\\.\\S+\"\n",
        "  return re.sub(pattern, '', text)\n",
        "\n",
        "def remove_special_chars(text):\n",
        "  pattern = '[\\.\\,]'\n",
        "  return re.sub(pattern, '', text)\n",
        "\n",
        "def getWordnetTag(treeBankTag):\n",
        "  #Converte uma tag do treebank (https://www.ling.upenn.edu/courses/Fall_2003/ling001/penn_treebank_pos.html) para tags reconhecidas pelo wordnet\n",
        "  if treeBankTag.startswith('J'):\n",
        "    return wn.ADJ\n",
        "  elif treeBankTag.startswith('V'):\n",
        "    return wn.VERB\n",
        "  elif treeBankTag.startswith('R'):\n",
        "    return wn.ADV\n",
        "  return wn.NOUN\n",
        "\n",
        "def generate_lemma(text):\n",
        "  #O uso do wordPunctTokenizer foi feito para manter principalmente os emoticons, já que eles por si só são indicativos de sentimentos\n",
        "  tokens = WordPunctTokenizer().tokenize(text)\n",
        "  tokens = nltk.pos_tag(tokens)\n",
        "  return ' '.join([wnl().lemmatize(token[0], pos=getWordnetTag(token[1])) for token in tokens])\n",
        "\n",
        "def clean_text(text):\n",
        "  text = text.lower()\n",
        "  text = remove_tags(text)\n",
        "  text = remove_urls(text)\n",
        "  text = remove_special_chars(text)\n",
        "  return generate_lemma(text)\n",
        "\n",
        "print(f\"Pré limpeza dos dados:\")\n",
        "df_train['text'][1]"
      ]
    },
    {
      "cell_type": "code",
      "execution_count": null,
      "metadata": {
        "colab": {
          "base_uri": "https://localhost:8080/",
          "height": 140
        },
        "id": "HZNg5h3GcjJ5",
        "outputId": "96026dc4-0207-45cf-987c-803afd63dc0c"
      },
      "outputs": [
        {
          "name": "stdout",
          "output_type": "stream",
          "text": [
            "Apos limpeza dos dados: \n"
          ]
        },
        {
          "data": {
            "application/vnd.google.colaboratory.intrinsic+json": {
              "type": "string"
            },
            "text/plain": [
              "'homelessness ( or houselessness a george carlin state ) have be an issue for year but never a plan to help those on the street that be once consider human who do everything from go to school work or vote for the matter most people think of the homeless a just a lose cause while worry about thing such a racism the war on iraq pressure kid to succeed technology the election inflation or worry if they \\' ll be next to end up on the street but what if you be give a bet to live on the street for a month without the luxury you once have from a home the entertainment set a bathroom picture on the wall a computer and everything you once treasure to see what it \\' s like to be homeless ? that be goddard bolt \\' s lesson mel brook ( who direct ) who star a bolt play a rich man who have everything in the world until decide to make a bet with a sissy rival ( jeffery tambor ) to see if he can live in the street for thirty day without the luxury ; if bolt succeed he can do what he want with a future project of make more building the bet \\' s on where bolt be throw on the street with a bracelet on his leg to monitor his every move where he can \\' t step off the sidewalk he \\' s give the nickname pepto by a vagrant after it \\' s write on his forehead where bolt meet other character include a woman by the name of molly ( lesley ann warren ) an ex - dancer who get divorce before lose her home and her pal sailor ( howard morris ) and fume ( teddy wilson ) who be already use to the street they \\' re survivor bolt isn \\' t he \\' s not use to reach mutual agreement like he once do when be rich where it \\' s fight or flight kill or be kill while the love connection between molly and bolt wasn \\' t necessary to plot i find \" life stink \" to be one of mel brook \\' observant film where prior to be a comedy it show a tender side compare to his slapstick work such a blaze saddle young frankenstein or spaceballs for the matter to show what it \\' s like have something valuable before lose it the next day or on the other hand make a stupid bet like all rich people do when they don \\' t know what to do with their money maybe they should give it to the homeless instead of use it like monopoly money or maybe this film will inspire you to help others'"
            ]
          },
          "execution_count": 149,
          "metadata": {},
          "output_type": "execute_result"
        }
      ],
      "source": [
        "df_train.drop_duplicates(subset=['text'], inplace = True)\n",
        "df_train['text'] = df_train['text'].apply(clean_text)\n",
        "print('Apos limpeza dos dados: ')\n",
        "df_train['text'][1]"
      ]
    },
    {
      "cell_type": "code",
      "execution_count": null,
      "metadata": {
        "id": "0_r0NT0j_MT6"
      },
      "outputs": [],
      "source": [
        "#Importar o dataset já processado\n",
        "df_train = pd.read_csv('processed_train.csv', index_col=0)"
      ]
    },
    {
      "cell_type": "code",
      "execution_count": null,
      "metadata": {
        "id": "-x8N5Elql8ng"
      },
      "outputs": [],
      "source": [
        "#Representando o texto no formato tf-idf\n",
        "\n",
        "tf_idf = TfidfVectorizer(use_idf=True)\n",
        "X_train, y_train = df_train['text'], df_train['sentiment']\n",
        "\n",
        "X_train = tf_idf.fit_transform(X_train)\n",
        "\n",
        "#Cada index do vetor é correspondente a um documento, tendo como elemento um vetor esparso que contém o tf-idf de cada feature para o documento\n",
        "first_vector = X_train[0]"
      ]
    },
    {
      "cell_type": "code",
      "execution_count": null,
      "metadata": {
        "id": "PvObRAGkn67s"
      },
      "outputs": [],
      "source": [
        "representation_df = pd.DataFrame(first_vector.T.todense(), index=tf_idf.get_feature_names_out(), columns=[\"tfidf\"])\n",
        "representation_df.sort_values(by=[\"tfidf\"], ascending=False)"
      ]
    },
    {
      "cell_type": "markdown",
      "metadata": {
        "id": "-EEIM3CfDAJe"
      },
      "source": [
        "### Aplicando modelos\n"
      ]
    },
    {
      "cell_type": "markdown",
      "metadata": {
        "id": "ITa9S9G9EwXs"
      },
      "source": [
        "#### Manipulando dados de teste"
      ]
    },
    {
      "cell_type": "code",
      "execution_count": null,
      "metadata": {
        "id": "qEu7RQtjEtiZ"
      },
      "outputs": [],
      "source": [
        "df_test = pd.read_csv('aclImdb_test.csv')\n",
        "df_test = df_test.sample(frac=1, random_state=2023)\n",
        "df_test.info()"
      ]
    },
    {
      "cell_type": "code",
      "execution_count": null,
      "metadata": {
        "colab": {
          "base_uri": "https://localhost:8080/",
          "height": 206
        },
        "id": "YLuVzS9hKQy4",
        "outputId": "43af0cd5-8e49-4422-903b-a0b20c4b0de7"
      },
      "outputs": [
        {
          "data": {
            "text/html": [
              "\n",
              "  <div id=\"df-404024dc-45a3-4ea9-a6bf-9b4b0e8fe2b5\">\n",
              "    <div class=\"colab-df-container\">\n",
              "      <div>\n",
              "<style scoped>\n",
              "    .dataframe tbody tr th:only-of-type {\n",
              "        vertical-align: middle;\n",
              "    }\n",
              "\n",
              "    .dataframe tbody tr th {\n",
              "        vertical-align: top;\n",
              "    }\n",
              "\n",
              "    .dataframe thead th {\n",
              "        text-align: right;\n",
              "    }\n",
              "</style>\n",
              "<table border=\"1\" class=\"dataframe\">\n",
              "  <thead>\n",
              "    <tr style=\"text-align: right;\">\n",
              "      <th></th>\n",
              "      <th>reviewIndex</th>\n",
              "      <th>text</th>\n",
              "      <th>sentiment</th>\n",
              "    </tr>\n",
              "  </thead>\n",
              "  <tbody>\n",
              "    <tr>\n",
              "      <th>7967</th>\n",
              "      <td>5921</td>\n",
              "      <td>This is a great story. Although there are some...</td>\n",
              "      <td>positive</td>\n",
              "    </tr>\n",
              "    <tr>\n",
              "      <th>8273</th>\n",
              "      <td>6197</td>\n",
              "      <td>If you watch this series you will get an inter...</td>\n",
              "      <td>positive</td>\n",
              "    </tr>\n",
              "    <tr>\n",
              "      <th>23921</th>\n",
              "      <td>902</td>\n",
              "      <td>Some movies are off-beat, but enjoyable, but m...</td>\n",
              "      <td>negative</td>\n",
              "    </tr>\n",
              "    <tr>\n",
              "      <th>3532</th>\n",
              "      <td>192</td>\n",
              "      <td>Mikhail Kalatozov's The Cranes are flying is a...</td>\n",
              "      <td>positive</td>\n",
              "    </tr>\n",
              "    <tr>\n",
              "      <th>23375</th>\n",
              "      <td>8539</td>\n",
              "      <td>Just saw this movie on opening night. I read s...</td>\n",
              "      <td>negative</td>\n",
              "    </tr>\n",
              "  </tbody>\n",
              "</table>\n",
              "</div>\n",
              "      <button class=\"colab-df-convert\" onclick=\"convertToInteractive('df-404024dc-45a3-4ea9-a6bf-9b4b0e8fe2b5')\"\n",
              "              title=\"Convert this dataframe to an interactive table.\"\n",
              "              style=\"display:none;\">\n",
              "        \n",
              "  <svg xmlns=\"http://www.w3.org/2000/svg\" height=\"24px\"viewBox=\"0 0 24 24\"\n",
              "       width=\"24px\">\n",
              "    <path d=\"M0 0h24v24H0V0z\" fill=\"none\"/>\n",
              "    <path d=\"M18.56 5.44l.94 2.06.94-2.06 2.06-.94-2.06-.94-.94-2.06-.94 2.06-2.06.94zm-11 1L8.5 8.5l.94-2.06 2.06-.94-2.06-.94L8.5 2.5l-.94 2.06-2.06.94zm10 10l.94 2.06.94-2.06 2.06-.94-2.06-.94-.94-2.06-.94 2.06-2.06.94z\"/><path d=\"M17.41 7.96l-1.37-1.37c-.4-.4-.92-.59-1.43-.59-.52 0-1.04.2-1.43.59L10.3 9.45l-7.72 7.72c-.78.78-.78 2.05 0 2.83L4 21.41c.39.39.9.59 1.41.59.51 0 1.02-.2 1.41-.59l7.78-7.78 2.81-2.81c.8-.78.8-2.07 0-2.86zM5.41 20L4 18.59l7.72-7.72 1.47 1.35L5.41 20z\"/>\n",
              "  </svg>\n",
              "      </button>\n",
              "      \n",
              "  <style>\n",
              "    .colab-df-container {\n",
              "      display:flex;\n",
              "      flex-wrap:wrap;\n",
              "      gap: 12px;\n",
              "    }\n",
              "\n",
              "    .colab-df-convert {\n",
              "      background-color: #E8F0FE;\n",
              "      border: none;\n",
              "      border-radius: 50%;\n",
              "      cursor: pointer;\n",
              "      display: none;\n",
              "      fill: #1967D2;\n",
              "      height: 32px;\n",
              "      padding: 0 0 0 0;\n",
              "      width: 32px;\n",
              "    }\n",
              "\n",
              "    .colab-df-convert:hover {\n",
              "      background-color: #E2EBFA;\n",
              "      box-shadow: 0px 1px 2px rgba(60, 64, 67, 0.3), 0px 1px 3px 1px rgba(60, 64, 67, 0.15);\n",
              "      fill: #174EA6;\n",
              "    }\n",
              "\n",
              "    [theme=dark] .colab-df-convert {\n",
              "      background-color: #3B4455;\n",
              "      fill: #D2E3FC;\n",
              "    }\n",
              "\n",
              "    [theme=dark] .colab-df-convert:hover {\n",
              "      background-color: #434B5C;\n",
              "      box-shadow: 0px 1px 3px 1px rgba(0, 0, 0, 0.15);\n",
              "      filter: drop-shadow(0px 1px 2px rgba(0, 0, 0, 0.3));\n",
              "      fill: #FFFFFF;\n",
              "    }\n",
              "  </style>\n",
              "\n",
              "      <script>\n",
              "        const buttonEl =\n",
              "          document.querySelector('#df-404024dc-45a3-4ea9-a6bf-9b4b0e8fe2b5 button.colab-df-convert');\n",
              "        buttonEl.style.display =\n",
              "          google.colab.kernel.accessAllowed ? 'block' : 'none';\n",
              "\n",
              "        async function convertToInteractive(key) {\n",
              "          const element = document.querySelector('#df-404024dc-45a3-4ea9-a6bf-9b4b0e8fe2b5');\n",
              "          const dataTable =\n",
              "            await google.colab.kernel.invokeFunction('convertToInteractive',\n",
              "                                                     [key], {});\n",
              "          if (!dataTable) return;\n",
              "\n",
              "          const docLinkHtml = 'Like what you see? Visit the ' +\n",
              "            '<a target=\"_blank\" href=https://colab.research.google.com/notebooks/data_table.ipynb>data table notebook</a>'\n",
              "            + ' to learn more about interactive tables.';\n",
              "          element.innerHTML = '';\n",
              "          dataTable['output_type'] = 'display_data';\n",
              "          await google.colab.output.renderOutput(dataTable, element);\n",
              "          const docLink = document.createElement('div');\n",
              "          docLink.innerHTML = docLinkHtml;\n",
              "          element.appendChild(docLink);\n",
              "        }\n",
              "      </script>\n",
              "    </div>\n",
              "  </div>\n",
              "  "
            ],
            "text/plain": [
              "       reviewIndex                                               text  \\\n",
              "7967          5921  This is a great story. Although there are some...   \n",
              "8273          6197  If you watch this series you will get an inter...   \n",
              "23921          902  Some movies are off-beat, but enjoyable, but m...   \n",
              "3532           192  Mikhail Kalatozov's The Cranes are flying is a...   \n",
              "23375         8539  Just saw this movie on opening night. I read s...   \n",
              "\n",
              "      sentiment  \n",
              "7967   positive  \n",
              "8273   positive  \n",
              "23921  negative  \n",
              "3532   positive  \n",
              "23375  negative  "
            ]
          },
          "execution_count": 161,
          "metadata": {},
          "output_type": "execute_result"
        }
      ],
      "source": [
        "df_test.head()"
      ]
    },
    {
      "cell_type": "code",
      "execution_count": null,
      "metadata": {
        "id": "jqC19AuLKWO8"
      },
      "outputs": [],
      "source": [
        "df_test.drop_duplicates(subset=['text'], inplace = True)\n",
        "df_test['text'] = df_test['text'].apply(clean_text)"
      ]
    },
    {
      "cell_type": "code",
      "execution_count": null,
      "metadata": {
        "id": "ZO55bStsLLxz"
      },
      "outputs": [],
      "source": [
        "df_test = pd.read_csv('processed_test.csv', index_col=0)\n",
        "X_test, y_test = df_test['text'], df_test['sentiment']\n",
        "X_test = tf_idf.transform(X_test)"
      ]
    },
    {
      "cell_type": "markdown",
      "metadata": {
        "id": "10zZLJnLqjol"
      },
      "source": [
        "#### Treinando algoritmos\n"
      ]
    },
    {
      "cell_type": "code",
      "execution_count": null,
      "metadata": {
        "id": "iduzmtdMDG_t"
      },
      "outputs": [],
      "source": [
        "randomForest = RandomForestClassifier()\n",
        "clf = svm.SVC()\n",
        "nb = MultinomialNB()"
      ]
    },
    {
      "cell_type": "code",
      "execution_count": null,
      "metadata": {
        "colab": {
          "base_uri": "https://localhost:8080/"
        },
        "id": "uJEra1TiIZXC",
        "outputId": "e5be254a-de31-475d-f486-615e97d09edb"
      },
      "outputs": [
        {
          "data": {
            "text/plain": [
              "24904"
            ]
          },
          "execution_count": 8,
          "metadata": {},
          "output_type": "execute_result"
        }
      ],
      "source": [
        "#Size of dataset\n",
        "len(df_train)"
      ]
    },
    {
      "cell_type": "code",
      "execution_count": null,
      "metadata": {
        "colab": {
          "base_uri": "https://localhost:8080/",
          "height": 74
        },
        "id": "HTlUfVJwYA26",
        "outputId": "3f327d15-617e-4cb7-91c5-bdd715b17d24"
      },
      "outputs": [
        {
          "data": {
            "text/html": [
              "<style>#sk-container-id-4 {color: black;background-color: white;}#sk-container-id-4 pre{padding: 0;}#sk-container-id-4 div.sk-toggleable {background-color: white;}#sk-container-id-4 label.sk-toggleable__label {cursor: pointer;display: block;width: 100%;margin-bottom: 0;padding: 0.3em;box-sizing: border-box;text-align: center;}#sk-container-id-4 label.sk-toggleable__label-arrow:before {content: \"▸\";float: left;margin-right: 0.25em;color: #696969;}#sk-container-id-4 label.sk-toggleable__label-arrow:hover:before {color: black;}#sk-container-id-4 div.sk-estimator:hover label.sk-toggleable__label-arrow:before {color: black;}#sk-container-id-4 div.sk-toggleable__content {max-height: 0;max-width: 0;overflow: hidden;text-align: left;background-color: #f0f8ff;}#sk-container-id-4 div.sk-toggleable__content pre {margin: 0.2em;color: black;border-radius: 0.25em;background-color: #f0f8ff;}#sk-container-id-4 input.sk-toggleable__control:checked~div.sk-toggleable__content {max-height: 200px;max-width: 100%;overflow: auto;}#sk-container-id-4 input.sk-toggleable__control:checked~label.sk-toggleable__label-arrow:before {content: \"▾\";}#sk-container-id-4 div.sk-estimator input.sk-toggleable__control:checked~label.sk-toggleable__label {background-color: #d4ebff;}#sk-container-id-4 div.sk-label input.sk-toggleable__control:checked~label.sk-toggleable__label {background-color: #d4ebff;}#sk-container-id-4 input.sk-hidden--visually {border: 0;clip: rect(1px 1px 1px 1px);clip: rect(1px, 1px, 1px, 1px);height: 1px;margin: -1px;overflow: hidden;padding: 0;position: absolute;width: 1px;}#sk-container-id-4 div.sk-estimator {font-family: monospace;background-color: #f0f8ff;border: 1px dotted black;border-radius: 0.25em;box-sizing: border-box;margin-bottom: 0.5em;}#sk-container-id-4 div.sk-estimator:hover {background-color: #d4ebff;}#sk-container-id-4 div.sk-parallel-item::after {content: \"\";width: 100%;border-bottom: 1px solid gray;flex-grow: 1;}#sk-container-id-4 div.sk-label:hover label.sk-toggleable__label {background-color: #d4ebff;}#sk-container-id-4 div.sk-serial::before {content: \"\";position: absolute;border-left: 1px solid gray;box-sizing: border-box;top: 0;bottom: 0;left: 50%;z-index: 0;}#sk-container-id-4 div.sk-serial {display: flex;flex-direction: column;align-items: center;background-color: white;padding-right: 0.2em;padding-left: 0.2em;position: relative;}#sk-container-id-4 div.sk-item {position: relative;z-index: 1;}#sk-container-id-4 div.sk-parallel {display: flex;align-items: stretch;justify-content: center;background-color: white;position: relative;}#sk-container-id-4 div.sk-item::before, #sk-container-id-4 div.sk-parallel-item::before {content: \"\";position: absolute;border-left: 1px solid gray;box-sizing: border-box;top: 0;bottom: 0;left: 50%;z-index: -1;}#sk-container-id-4 div.sk-parallel-item {display: flex;flex-direction: column;z-index: 1;position: relative;background-color: white;}#sk-container-id-4 div.sk-parallel-item:first-child::after {align-self: flex-end;width: 50%;}#sk-container-id-4 div.sk-parallel-item:last-child::after {align-self: flex-start;width: 50%;}#sk-container-id-4 div.sk-parallel-item:only-child::after {width: 0;}#sk-container-id-4 div.sk-dashed-wrapped {border: 1px dashed gray;margin: 0 0.4em 0.5em 0.4em;box-sizing: border-box;padding-bottom: 0.4em;background-color: white;}#sk-container-id-4 div.sk-label label {font-family: monospace;font-weight: bold;display: inline-block;line-height: 1.2em;}#sk-container-id-4 div.sk-label-container {text-align: center;}#sk-container-id-4 div.sk-container {/* jupyter's `normalize.less` sets `[hidden] { display: none; }` but bootstrap.min.css set `[hidden] { display: none !important; }` so we also need the `!important` here to be able to override the default hidden behavior on the sphinx rendered scikit-learn.org. See: https://github.com/scikit-learn/scikit-learn/issues/21755 */display: inline-block !important;position: relative;}#sk-container-id-4 div.sk-text-repr-fallback {display: none;}</style><div id=\"sk-container-id-4\" class=\"sk-top-container\"><div class=\"sk-text-repr-fallback\"><pre>MultinomialNB()</pre><b>In a Jupyter environment, please rerun this cell to show the HTML representation or trust the notebook. <br />On GitHub, the HTML representation is unable to render, please try loading this page with nbviewer.org.</b></div><div class=\"sk-container\" hidden><div class=\"sk-item\"><div class=\"sk-estimator sk-toggleable\"><input class=\"sk-toggleable__control sk-hidden--visually\" id=\"sk-estimator-id-4\" type=\"checkbox\" checked><label for=\"sk-estimator-id-4\" class=\"sk-toggleable__label sk-toggleable__label-arrow\">MultinomialNB</label><div class=\"sk-toggleable__content\"><pre>MultinomialNB()</pre></div></div></div></div></div>"
            ],
            "text/plain": [
              "MultinomialNB()"
            ]
          },
          "execution_count": 15,
          "metadata": {},
          "output_type": "execute_result"
        }
      ],
      "source": [
        "randomForest.fit(X_train, y_train) #Train time: 1m23s\n",
        "clf.fit(X_train, y_train) #Train time: 28m30s\n",
        "nb.fit(X_train, y_train) #Train time: 0s"
      ]
    },
    {
      "cell_type": "code",
      "execution_count": null,
      "metadata": {
        "id": "wQOUAmAtm0vL"
      },
      "outputs": [],
      "source": [
        "# Salvando os modelos\n",
        "models = {\"randomForest\": randomForest, \"clf\":clf, \"nb\":nb}\n",
        "for modelName, model in models.items():\n",
        "  with open(modelName+\".pkl\", 'wb') as file:\n",
        "    pickle.dump(model, file)"
      ]
    },
    {
      "cell_type": "markdown",
      "metadata": {
        "id": "S08W7Pq9Xlq1"
      },
      "source": [
        "#### Pipeline\n",
        "\n"
      ]
    },
    {
      "cell_type": "code",
      "execution_count": null,
      "metadata": {
        "colab": {
          "base_uri": "https://localhost:8080/"
        },
        "id": "tYV0EDeXXlNj",
        "outputId": "0c6a026a-97b9-4fcc-dd8f-83684d7f8ca5"
      },
      "outputs": [
        {
          "output_type": "stream",
          "name": "stdout",
          "text": [
            "Positive reviews size: 6236\n",
            "Negative reviews size: 6216\n"
          ]
        }
      ],
      "source": [
        "# Splitting the processed dataset in half\n",
        "\n",
        "def split_df(df, target):\n",
        "  return df[df[\"sentiment\"] == target].sample(frac=0.5, random_state=2023)\n",
        "\n",
        "positive_reviews_half = split_df(df_train, \"positive\")\n",
        "negative_reviews_half = split_df(df_train, \"negative\")\n",
        "\n",
        "half_reviews = pd.concat([negative_reviews_half, positive_reviews_half]).sample(\n",
        "  frac = 1,\n",
        "  random_state = 2023,\n",
        ")\n",
        "print(f'Positive reviews size: {len(positive_reviews_half)}')\n",
        "print(f'Negative reviews size: {len(negative_reviews_half)}')"
      ]
    },
    {
      "cell_type": "code",
      "execution_count": null,
      "metadata": {
        "id": "hoBSg5_XmWkE"
      },
      "outputs": [],
      "source": [
        "# Creating pipeline\n",
        "randomForestParameters = {\n",
        "    'n_estimators': [50, 100, 200],\n",
        "    'criterion': ['gini', 'entropy'],\n",
        "    'bootstrap': [True, False],\n",
        "}\n",
        "\n",
        "clfParameters = {\n",
        "    'C':[1, 10, 100],\n",
        "    'gamma': ['scale','auto'],\n",
        "}\n",
        "\n",
        "nbParameters = {\n",
        "    'fit_prior': [False, True],\n",
        "    'alpha': [1,0],\n",
        "    'force_alpha': [False, True]\n",
        "}\n",
        "\n",
        "X_train_half, y_train_half = half_reviews['text'], half_reviews['sentiment']\n",
        "X_train_half = tf_idf.fit_transform(X_train_half)"
      ]
    },
    {
      "cell_type": "code",
      "execution_count": null,
      "metadata": {
        "colab": {
          "base_uri": "https://localhost:8080/"
        },
        "id": "GypUw7rqhZFF",
        "outputId": "4c2664c0-cfae-47a7-b85e-b90d730bf1ac"
      },
      "outputs": [
        {
          "output_type": "execute_result",
          "data": {
            "text/plain": [
              "{'bootstrap': False, 'criterion': 'entropy', 'n_estimators': 200}"
            ]
          },
          "metadata": {},
          "execution_count": 13
        }
      ],
      "source": [
        "#Best params for random forest\n",
        "gridForest = GridSearchCV(randomForest, randomForestParameters)\n",
        "gridForest.fit(X_train_half, y_train_half)\n",
        "gridForest.best_params_ #{'bootstrap': False, 'criterion': 'entropy', 'n_estimators': 200}"
      ]
    },
    {
      "cell_type": "code",
      "execution_count": null,
      "metadata": {
        "id": "ujrV2ckvhdKK"
      },
      "outputs": [],
      "source": [
        "#Best params for SVM\n",
        "gridClf = GridSearchCV(clf, clfParameters)\n",
        "gridClf.fit(X_train_half, y_train_half)\n",
        "gridClf.best_params_ #{'C': 10, 'gamma': 'scale'}"
      ]
    },
    {
      "cell_type": "code",
      "execution_count": null,
      "metadata": {
        "colab": {
          "base_uri": "https://localhost:8080/"
        },
        "id": "F-zhs-fec71b",
        "outputId": "ceec1693-8862-485d-e6d2-c4124a7fc965"
      },
      "outputs": [
        {
          "output_type": "stream",
          "name": "stderr",
          "text": [
            "/usr/local/lib/python3.10/dist-packages/sklearn/naive_bayes.py:635: UserWarning: alpha too small will result in numeric errors, setting alpha = 1.0e-10. Use `force_alpha=True` to keep alpha unchanged.\n",
            "  warnings.warn(\n",
            "/usr/local/lib/python3.10/dist-packages/sklearn/naive_bayes.py:635: UserWarning: alpha too small will result in numeric errors, setting alpha = 1.0e-10. Use `force_alpha=True` to keep alpha unchanged.\n",
            "  warnings.warn(\n",
            "/usr/local/lib/python3.10/dist-packages/sklearn/naive_bayes.py:635: UserWarning: alpha too small will result in numeric errors, setting alpha = 1.0e-10. Use `force_alpha=True` to keep alpha unchanged.\n",
            "  warnings.warn(\n",
            "/usr/local/lib/python3.10/dist-packages/sklearn/naive_bayes.py:635: UserWarning: alpha too small will result in numeric errors, setting alpha = 1.0e-10. Use `force_alpha=True` to keep alpha unchanged.\n",
            "  warnings.warn(\n",
            "/usr/local/lib/python3.10/dist-packages/sklearn/naive_bayes.py:635: UserWarning: alpha too small will result in numeric errors, setting alpha = 1.0e-10. Use `force_alpha=True` to keep alpha unchanged.\n",
            "  warnings.warn(\n",
            "/usr/local/lib/python3.10/dist-packages/sklearn/naive_bayes.py:907: RuntimeWarning: divide by zero encountered in log\n",
            "  self.feature_log_prob_ = np.log(smoothed_fc) - np.log(\n",
            "/usr/local/lib/python3.10/dist-packages/sklearn/naive_bayes.py:907: RuntimeWarning: divide by zero encountered in log\n",
            "  self.feature_log_prob_ = np.log(smoothed_fc) - np.log(\n",
            "/usr/local/lib/python3.10/dist-packages/sklearn/naive_bayes.py:907: RuntimeWarning: divide by zero encountered in log\n",
            "  self.feature_log_prob_ = np.log(smoothed_fc) - np.log(\n",
            "/usr/local/lib/python3.10/dist-packages/sklearn/naive_bayes.py:907: RuntimeWarning: divide by zero encountered in log\n",
            "  self.feature_log_prob_ = np.log(smoothed_fc) - np.log(\n",
            "/usr/local/lib/python3.10/dist-packages/sklearn/naive_bayes.py:907: RuntimeWarning: divide by zero encountered in log\n",
            "  self.feature_log_prob_ = np.log(smoothed_fc) - np.log(\n",
            "/usr/local/lib/python3.10/dist-packages/sklearn/naive_bayes.py:635: UserWarning: alpha too small will result in numeric errors, setting alpha = 1.0e-10. Use `force_alpha=True` to keep alpha unchanged.\n",
            "  warnings.warn(\n",
            "/usr/local/lib/python3.10/dist-packages/sklearn/naive_bayes.py:635: UserWarning: alpha too small will result in numeric errors, setting alpha = 1.0e-10. Use `force_alpha=True` to keep alpha unchanged.\n",
            "  warnings.warn(\n",
            "/usr/local/lib/python3.10/dist-packages/sklearn/naive_bayes.py:635: UserWarning: alpha too small will result in numeric errors, setting alpha = 1.0e-10. Use `force_alpha=True` to keep alpha unchanged.\n",
            "  warnings.warn(\n",
            "/usr/local/lib/python3.10/dist-packages/sklearn/naive_bayes.py:635: UserWarning: alpha too small will result in numeric errors, setting alpha = 1.0e-10. Use `force_alpha=True` to keep alpha unchanged.\n",
            "  warnings.warn(\n",
            "/usr/local/lib/python3.10/dist-packages/sklearn/naive_bayes.py:635: UserWarning: alpha too small will result in numeric errors, setting alpha = 1.0e-10. Use `force_alpha=True` to keep alpha unchanged.\n",
            "  warnings.warn(\n",
            "/usr/local/lib/python3.10/dist-packages/sklearn/naive_bayes.py:907: RuntimeWarning: divide by zero encountered in log\n",
            "  self.feature_log_prob_ = np.log(smoothed_fc) - np.log(\n",
            "/usr/local/lib/python3.10/dist-packages/sklearn/naive_bayes.py:907: RuntimeWarning: divide by zero encountered in log\n",
            "  self.feature_log_prob_ = np.log(smoothed_fc) - np.log(\n",
            "/usr/local/lib/python3.10/dist-packages/sklearn/naive_bayes.py:907: RuntimeWarning: divide by zero encountered in log\n",
            "  self.feature_log_prob_ = np.log(smoothed_fc) - np.log(\n",
            "/usr/local/lib/python3.10/dist-packages/sklearn/naive_bayes.py:907: RuntimeWarning: divide by zero encountered in log\n",
            "  self.feature_log_prob_ = np.log(smoothed_fc) - np.log(\n",
            "/usr/local/lib/python3.10/dist-packages/sklearn/naive_bayes.py:907: RuntimeWarning: divide by zero encountered in log\n",
            "  self.feature_log_prob_ = np.log(smoothed_fc) - np.log(\n"
          ]
        },
        {
          "output_type": "execute_result",
          "data": {
            "text/plain": [
              "{'alpha': 1, 'fit_prior': True, 'force_alpha': False}"
            ]
          },
          "metadata": {},
          "execution_count": 14
        }
      ],
      "source": [
        "#Best params for NB\n",
        "gridNb = GridSearchCV(nb, nbParameters)\n",
        "gridNb.fit(X_train_half, y_train_half)\n",
        "gridNb.best_params_ #{'alpha': 1, 'fit_prior': True, 'force_alpha': False}"
      ]
    },
    {
      "cell_type": "markdown",
      "metadata": {
        "id": "rBD9TollqsAQ"
      },
      "source": [
        "#### Aplicando modelos em dados de teste\n",
        "\n",
        "\n"
      ]
    },
    {
      "cell_type": "code",
      "execution_count": null,
      "metadata": {
        "id": "uy3teq4Qya2v"
      },
      "outputs": [],
      "source": [
        "# Lendo modelos salvos\n",
        "modelsDict = {}\n",
        "models = [\"randomForest\", \"clf\", \"nb\"]\n",
        "for modelName in models:\n",
        "  with open(modelName+\".pkl\", 'rb') as file:\n",
        "    modelsDict[modelName] = pickle.load(file)"
      ]
    },
    {
      "cell_type": "code",
      "execution_count": null,
      "metadata": {
        "id": "qGiyPpl7Ef6X"
      },
      "outputs": [],
      "source": [
        "y_pred_randomForest = modelsDict['randomForest'].predict(X_test)\n",
        "y_pred_clf = modelsDict['clf'].predict(X_test)\n",
        "y_pred_nb = modelsDict['nb'].predict(X_test)"
      ]
    },
    {
      "cell_type": "markdown",
      "metadata": {
        "id": "fMRiEqUXrFVy"
      },
      "source": [
        "## Resultados"
      ]
    },
    {
      "cell_type": "markdown",
      "metadata": {
        "id": "UHbTY2DxYSFQ"
      },
      "source": [
        "### Random Forest"
      ]
    },
    {
      "cell_type": "code",
      "execution_count": null,
      "metadata": {
        "colab": {
          "base_uri": "https://localhost:8080/"
        },
        "id": "tkYnLkduXuly",
        "outputId": "9f65db7e-4526-4329-c8c5-41d24272de7d"
      },
      "outputs": [
        {
          "name": "stdout",
          "output_type": "stream",
          "text": [
            "              precision    recall  f1-score   support\n",
            "\n",
            "    negative       0.82      0.85      0.84     12361\n",
            "    positive       0.84      0.82      0.83     12440\n",
            "\n",
            "    accuracy                           0.83     24801\n",
            "   macro avg       0.83      0.83      0.83     24801\n",
            "weighted avg       0.83      0.83      0.83     24801\n",
            "\n"
          ]
        }
      ],
      "source": [
        "print(classification_report(y_test, y_pred_randomForest))"
      ]
    },
    {
      "cell_type": "code",
      "source": [
        "#Random forest best params\n",
        "forest_pred_best_params = RandomForestClassifier(\n",
        "      bootstrap = False, criterion = 'entropy', n_estimators = 200\n",
        "    ).fit(X_train, y_train).predict(X_test)\n",
        "print(classification_report(y_test, forest_pred_best_params))"
      ],
      "metadata": {
        "colab": {
          "base_uri": "https://localhost:8080/"
        },
        "id": "lJ2vOH2Lk4hK",
        "outputId": "b55d0187-8ad9-4fd1-e925-a922836f1b20"
      },
      "execution_count": null,
      "outputs": [
        {
          "output_type": "stream",
          "name": "stdout",
          "text": [
            "              precision    recall  f1-score   support\n",
            "\n",
            "    negative       0.85      0.85      0.85     12361\n",
            "    positive       0.85      0.85      0.85     12440\n",
            "\n",
            "    accuracy                           0.85     24801\n",
            "   macro avg       0.85      0.85      0.85     24801\n",
            "weighted avg       0.85      0.85      0.85     24801\n",
            "\n"
          ]
        }
      ]
    },
    {
      "cell_type": "code",
      "execution_count": null,
      "metadata": {
        "colab": {
          "base_uri": "https://localhost:8080/",
          "height": 449
        },
        "id": "2qLjB8S_rpu1",
        "outputId": "4fae1d26-c435-4537-b8f7-7ddfc5dd1073"
      },
      "outputs": [
        {
          "data": {
            "image/png": "[encoded data removed]",
            "text/plain": [
              "<Figure size 640x480 with 2 Axes>"
            ]
          },
          "metadata": {},
          "output_type": "display_data"
        }
      ],
      "source": [
        "cm = confusion_matrix(y_test, y_pred_randomForest)\n",
        "\n",
        "disp = ConfusionMatrixDisplay(confusion_matrix=cm, display_labels = [False, True])\n",
        "disp.plot()\n",
        "plt.show()"
      ]
    },
    {
      "cell_type": "markdown",
      "metadata": {
        "id": "TBksYoh8YZ_h"
      },
      "source": [
        "###SVM"
      ]
    },
    {
      "cell_type": "code",
      "execution_count": null,
      "metadata": {
        "colab": {
          "base_uri": "https://localhost:8080/"
        },
        "id": "wLxr7cEezgr2",
        "outputId": "3bf8c951-977d-4322-c024-4085ef361893"
      },
      "outputs": [
        {
          "name": "stdout",
          "output_type": "stream",
          "text": [
            "              precision    recall  f1-score   support\n",
            "\n",
            "    negative       0.88      0.89      0.88     12361\n",
            "    positive       0.89      0.88      0.88     12440\n",
            "\n",
            "    accuracy                           0.88     24801\n",
            "   macro avg       0.88      0.88      0.88     24801\n",
            "weighted avg       0.88      0.88      0.88     24801\n",
            "\n"
          ]
        }
      ],
      "source": [
        "#SVM\n",
        "print(classification_report(y_test, y_pred_clf))"
      ]
    },
    {
      "cell_type": "code",
      "source": [
        "#SVM best params\n",
        "clf_pred_best_params = svm.SVC(\n",
        "     C = 10, gamma = \"scale\"\n",
        "    ).fit(X_train, y_train).predict(X_test)\n",
        "print(classification_report(y_test, clf_pred_best_params))"
      ],
      "metadata": {
        "colab": {
          "base_uri": "https://localhost:8080/"
        },
        "id": "LoBzp2byoP25",
        "outputId": "e336e2ce-28e8-4292-ac55-8aa672e61dc2"
      },
      "execution_count": null,
      "outputs": [
        {
          "output_type": "stream",
          "name": "stdout",
          "text": [
            "              precision    recall  f1-score   support\n",
            "\n",
            "    negative       0.87      0.89      0.88     12361\n",
            "    positive       0.89      0.87      0.88     12440\n",
            "\n",
            "    accuracy                           0.88     24801\n",
            "   macro avg       0.88      0.88      0.88     24801\n",
            "weighted avg       0.88      0.88      0.88     24801\n",
            "\n"
          ]
        }
      ]
    },
    {
      "cell_type": "code",
      "execution_count": null,
      "metadata": {
        "colab": {
          "base_uri": "https://localhost:8080/",
          "height": 449
        },
        "id": "xVG1CVPzj_5Y",
        "outputId": "90def361-2ec3-4bef-b674-ff7396b0cf55"
      },
      "outputs": [
        {
          "data": {
            "image/png": "[encoded data removed]",
            "text/plain": [
              "<Figure size 640x480 with 2 Axes>"
            ]
          },
          "metadata": {},
          "output_type": "display_data"
        }
      ],
      "source": [
        "cm = confusion_matrix(y_test, y_pred_clf)\n",
        "\n",
        "disp = ConfusionMatrixDisplay(confusion_matrix=cm, display_labels = [False, True])\n",
        "disp.plot()\n",
        "plt.show()"
      ]
    },
    {
      "cell_type": "markdown",
      "metadata": {
        "id": "crrjbHrHYd3V"
      },
      "source": [
        "###Naive Bayes"
      ]
    },
    {
      "cell_type": "code",
      "execution_count": null,
      "metadata": {
        "colab": {
          "base_uri": "https://localhost:8080/"
        },
        "id": "00Ci7_TmYGd8",
        "outputId": "7123a61c-d2b3-48ac-9de9-d04f33d8cc62"
      },
      "outputs": [
        {
          "name": "stdout",
          "output_type": "stream",
          "text": [
            "              precision    recall  f1-score   support\n",
            "\n",
            "    negative       0.79      0.88      0.83     12361\n",
            "    positive       0.87      0.76      0.81     12440\n",
            "\n",
            "    accuracy                           0.82     24801\n",
            "   macro avg       0.83      0.82      0.82     24801\n",
            "weighted avg       0.83      0.82      0.82     24801\n",
            "\n"
          ]
        }
      ],
      "source": [
        "#NB\n",
        "print(classification_report(y_test, y_pred_nb))"
      ]
    },
    {
      "cell_type": "code",
      "execution_count": null,
      "metadata": {
        "colab": {
          "base_uri": "https://localhost:8080/"
        },
        "id": "2Q87FzG0degN",
        "outputId": "5357be5b-4ec9-47ce-c07c-540bb43dcf5c"
      },
      "outputs": [
        {
          "output_type": "stream",
          "name": "stdout",
          "text": [
            "              precision    recall  f1-score   support\n",
            "\n",
            "    negative       0.79      0.88      0.83     12361\n",
            "    positive       0.87      0.76      0.81     12440\n",
            "\n",
            "    accuracy                           0.82     24801\n",
            "   macro avg       0.83      0.82      0.82     24801\n",
            "weighted avg       0.83      0.82      0.82     24801\n",
            "\n"
          ]
        }
      ],
      "source": [
        "#NB best params\n",
        "nb_pred_best_params = MultinomialNB(\n",
        "      alpha= 1, fit_prior= True, force_alpha= False\n",
        "    ).fit(X_train, y_train).predict(X_test)\n",
        "\n",
        "print(classification_report(y_test, nb_pred_best_params))"
      ]
    },
    {
      "cell_type": "code",
      "execution_count": null,
      "metadata": {
        "colab": {
          "base_uri": "https://localhost:8080/",
          "height": 449
        },
        "id": "SkahOa1gYgly",
        "outputId": "73ec969b-5ada-49d7-bb09-e94201083238"
      },
      "outputs": [
        {
          "data": {
            "image/png": "[encoded data removed]",
            "text/plain": [
              "<Figure size 640x480 with 2 Axes>"
            ]
          },
          "metadata": {},
          "output_type": "display_data"
        }
      ],
      "source": [
        "cm = confusion_matrix(y_test, y_pred_nb)\n",
        "\n",
        "disp = ConfusionMatrixDisplay(confusion_matrix=cm, display_labels = [False, True])\n",
        "disp.plot()\n",
        "plt.show()"
      ]
    }
  ],
  "metadata": {
    "colab": {
      "collapsed_sections": [
        "tMPaqKaiuXNv"
      ],
      "provenance": [],
      "authorship_tag": "ABX9TyMp3n5dpDvwr9qBGDNB3I/8",
      "include_colab_link": true
    },
    "kernelspec": {
      "display_name": "Python 3",
      "name": "python3"
    },
    "language_info": {
      "name": "python"
    }
  },
  "nbformat": 4,
  "nbformat_minor": 0
}